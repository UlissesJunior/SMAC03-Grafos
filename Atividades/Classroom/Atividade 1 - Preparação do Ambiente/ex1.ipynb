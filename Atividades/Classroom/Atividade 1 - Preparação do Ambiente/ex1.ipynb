{
  "nbformat": 4,
  "nbformat_minor": 0,
  "metadata": {
    "colab": {
      "provenance": []
    },
    "kernelspec": {
      "name": "python3",
      "display_name": "Python 3"
    },
    "language_info": {
      "name": "python"
    }
  },
  "cells": [
    {
      "cell_type": "markdown",
      "source": [
        "### **UNIVERSIDADE FEDERAL DE ITAJUBÁ**\n",
        "### **Instituto de Matemática e Computação**\n",
        "### **Sistemas de Informação**\n",
        "\n",
        "--\n",
        "\n",
        "### **SMAC03 - Grafos**\n",
        "\n",
        "### **Tópico: 1. Introdução à Grafos**\n",
        "\n",
        "## **Atividade 1 - Preparação do Ambiente e Dicas de Desenvolvimento**\n",
        "\n",
        "---\n",
        "\n",
        "**Objetivo:** Este notebook tem por objetivo apresentar a linguagem que será adotada para implementação dos algoritmos que serão abordados na disciplina. Ele pode ser usado como ambiente de desenvolvimento alternativo à IDE e ao Moodle. Contudo, visando uma maior autonomia do aluno, a recomendação é que seja utilizada uma IDE instalada localmente no seu equipamento.\n",
        "\n",
        "Para cada enunciado a seguir implemente os códigos de modo a atender o que se pede.\n",
        "\n",
        "---"
      ],
      "metadata": {
        "id": "ip2ANNdKf0LB"
      }
    },
    {
      "cell_type": "markdown",
      "source": [
        "## **Matrícula:** Número de Matrícula\n",
        "## **Nome:** Nome Completo\n",
        "---\n"
      ],
      "metadata": {
        "id": "WlL9X1hpVa-D"
      }
    },
    {
      "cell_type": "markdown",
      "source": [
        "## **0. Bibliotecas**\n",
        "\n",
        "É recomendável adicionar as bibliotecas necessárias logo no início do código seguindo uma boa prática de programação além de evitar futuros problemas. **Obs**: Use a célula abaixo para as bibliotecas que forem necessárias."
      ],
      "metadata": {
        "id": "NtD00egiGzf5"
      }
    },
    {
      "cell_type": "markdown",
      "source": [
        "**Q1.** Instale a biblioteca iGraph (https://python.igraph.org/en/stable/)."
      ],
      "metadata": {
        "id": "mQapqw0BCTsC"
      }
    },
    {
      "cell_type": "code",
      "source": [],
      "metadata": {
        "id": "_f_df5P6K3ic"
      },
      "execution_count": null,
      "outputs": []
    },
    {
      "cell_type": "markdown",
      "source": [
        "**Q2.** Importe as seguintes bibliotecas: numpy, time, math, random, igraph. Faça a montagem de uma pasta no repositório do Google Drive que contenha os *datasets* sobre grafos disponíveis no SIGAA (simples, ponte, zachary)."
      ],
      "metadata": {
        "id": "8CPIA02RC7Kx"
      }
    },
    {
      "cell_type": "code",
      "source": [],
      "metadata": {
        "id": "sBIodkzkiSzs",
        "colab": {
          "base_uri": "https://localhost:8080/"
        },
        "outputId": "b7a7fe6c-15a8-44c1-94dd-dca8244550fe"
      },
      "execution_count": null,
      "outputs": [
        {
          "output_type": "stream",
          "name": "stdout",
          "text": [
            "Mounted at /content/drive\n"
          ]
        }
      ]
    },
    {
      "cell_type": "markdown",
      "source": [
        "---\n",
        "## **1. Variáveis e *Strings***"
      ],
      "metadata": {
        "id": "42B4P0y9FzFi"
      }
    },
    {
      "cell_type": "markdown",
      "source": [
        "**Q3.** Crie uma variável do tipo *string* que recebe um valor de entrada dado pelo usuário e retorna um valor do tipo inteiro que é o triplo do valor fornecido."
      ],
      "metadata": {
        "id": "4vmOk_z1j8X6"
      }
    },
    {
      "cell_type": "code",
      "source": [],
      "metadata": {
        "id": "ww9ac5cOkMmk",
        "colab": {
          "base_uri": "https://localhost:8080/"
        },
        "outputId": "fcaa988c-2c26-4176-df0e-c36604525a4e"
      },
      "execution_count": null,
      "outputs": [
        {
          "output_type": "stream",
          "name": "stdout",
          "text": [
            "Digite um número: 3\n",
            "<class 'str'>\n",
            "<class 'int'> 9\n"
          ]
        }
      ]
    },
    {
      "cell_type": "markdown",
      "source": [
        "\n",
        "**Q4.** Concatene duas *strings* dadas pela entrada do usuário e cujos caracteres estão todos em caixa baixa (minúsculos), de modo que o primeiro caracter de cada string se torne caixa alta (maiúsculo)."
      ],
      "metadata": {
        "id": "pS4CLe2cObvv"
      }
    },
    {
      "cell_type": "code",
      "source": [],
      "metadata": {
        "id": "KwmdX7SvPt_3",
        "colab": {
          "base_uri": "https://localhost:8080/"
        },
        "outputId": "7271c097-478e-4fb5-9f07-2f8b70799312"
      },
      "execution_count": null,
      "outputs": [
        {
          "output_type": "stream",
          "name": "stdout",
          "text": [
            "Digite seu primeiro nome: rafael\n",
            "Digite seu último nome: frinhani\n",
            "Rafael Frinhani\n"
          ]
        }
      ]
    },
    {
      "cell_type": "markdown",
      "source": [
        "---\n",
        "## **2. Entrada e Saída**\n",
        "\n",
        "**Q5.** Implemente uma função que recebe como entrada o nome de um *dataset* armazenado no seu Google Drive (ex. simples, ponte, zachary), lê o respectivo arquivo .txt, atribua o conteúdo do arquivo a um objeto tipo `numpy.ndarray`, imprime na tela a respectiva matriz e o seu tipo."
      ],
      "metadata": {
        "id": "W3_UWm5MFrl5"
      }
    },
    {
      "cell_type": "code",
      "source": [],
      "metadata": {
        "id": "gqlP4p8ZJ-re",
        "colab": {
          "base_uri": "https://localhost:8080/"
        },
        "outputId": "8c77bd57-8e61-48ee-82f6-df7eddafb430"
      },
      "execution_count": null,
      "outputs": [
        {
          "output_type": "stream",
          "name": "stdout",
          "text": [
            "Digite o nome do dataset: simples\n",
            "[[0 1 0 0]\n",
            " [1 0 1 1]\n",
            " [0 1 0 1]\n",
            " [0 1 1 0]]\n",
            "<class 'numpy.ndarray'>\n"
          ]
        }
      ]
    },
    {
      "cell_type": "markdown",
      "source": [
        "**Q6.** Obtenha as dimensões da matriz no formato (linhas, colunas), bem como a lista com os valores constantes na sua diagonal."
      ],
      "metadata": {
        "id": "3jT4mpgQ_04q"
      }
    },
    {
      "cell_type": "code",
      "source": [],
      "metadata": {
        "colab": {
          "base_uri": "https://localhost:8080/"
        },
        "id": "hyanQ1fq_qpC",
        "outputId": "59f42b95-d88c-469e-93bb-5022c95b0c0e"
      },
      "execution_count": null,
      "outputs": [
        {
          "output_type": "stream",
          "name": "stdout",
          "text": [
            "(4, 4)\n",
            "[0 0 0 0]\n"
          ]
        }
      ]
    },
    {
      "cell_type": "markdown",
      "source": [
        "**Q7.** Usando a matriz obtida em Q5, imprima o elemento da posição [i][j] informado pelo usuário. Informe caso algum índice dado na entrada seja maior que a dimensão da matriz."
      ],
      "metadata": {
        "id": "TeMb6df9RXfx"
      }
    },
    {
      "cell_type": "code",
      "source": [],
      "metadata": {
        "id": "3CxUKIG5RkPE",
        "colab": {
          "base_uri": "https://localhost:8080/"
        },
        "outputId": "b79fadaf-351e-4422-9bae-8cab1ffebffc"
      },
      "execution_count": null,
      "outputs": [
        {
          "output_type": "stream",
          "name": "stdout",
          "text": [
            "Digite a linha i desejada: 2\n",
            "Digite a coluna j desejada: 3\n",
            "Elemento da posição [2][3]: 1\n"
          ]
        }
      ]
    },
    {
      "cell_type": "markdown",
      "source": [
        "**Q8.** Salve em um arquivo no seu Google Drive com o nome \"resultado.txt\", lista dos valores da diagonal da matriz obtida em Q6."
      ],
      "metadata": {
        "id": "6b8-758_OGfF"
      }
    },
    {
      "cell_type": "code",
      "source": [
        "\n",
        "\n"
      ],
      "metadata": {
        "colab": {
          "base_uri": "https://localhost:8080/"
        },
        "id": "j2PuWn_fO-MT",
        "outputId": "97e16b39-e156-4607-be03-efbe80c0a3c2"
      },
      "execution_count": null,
      "outputs": [
        {
          "output_type": "stream",
          "name": "stdout",
          "text": [
            "Lista salva em Arquivo!\n"
          ]
        }
      ]
    },
    {
      "cell_type": "markdown",
      "source": [
        "---\n",
        "## **3. Estruturas**"
      ],
      "metadata": {
        "id": "bIshTAb2F-8n"
      }
    },
    {
      "cell_type": "markdown",
      "source": [
        "**Q9.** A partir da matriz, implemente uma função que constroi um dicionário. Cada chave do dicionário corresponde ao índice da linha da matriz. O valor de cada chave corresponde a uma lista com os índices das colunas associadas à linha em questão, que possuam valor maior que 0. Caso o valor da coluna seja maior que 1 deve-se repetir o índice da coluna conforme o valor (ex. a célula dada pela linha 1 e coluna 2 tem valor 4, logo, o valor 2 na lista da linha 1 precisará ser repetido 4 vezes)."
      ],
      "metadata": {
        "id": "XD_tfMWKFlTB"
      }
    },
    {
      "cell_type": "code",
      "source": [],
      "metadata": {
        "id": "slz-xUP3HWha",
        "colab": {
          "base_uri": "https://localhost:8080/"
        },
        "outputId": "5ae0c8fe-4356-41ac-98d9-77b49966bafb"
      },
      "execution_count": null,
      "outputs": [
        {
          "output_type": "stream",
          "name": "stdout",
          "text": [
            "{0: [1], 1: [0, 2, 3], 2: [1, 3], 3: [1, 2]}\n"
          ]
        }
      ]
    },
    {
      "cell_type": "markdown",
      "source": [
        "**Q10.** Calcule o tempo total de execução da função que implementou em Q9, considerando precisão de 4 (quatro) casas decimais."
      ],
      "metadata": {
        "id": "lghWWu97BYSZ"
      }
    },
    {
      "cell_type": "code",
      "source": [],
      "metadata": {
        "colab": {
          "base_uri": "https://localhost:8080/"
        },
        "id": "BqNrNBf_NBZt",
        "outputId": "cbf7c995-be14-478c-9edb-886a741b8021"
      },
      "execution_count": null,
      "outputs": [
        {
          "output_type": "stream",
          "name": "stdout",
          "text": [
            "0.0001\n"
          ]
        }
      ]
    },
    {
      "cell_type": "markdown",
      "source": [
        "\n",
        "**Q11.** Crie uma lista que armazene os valores de uma linha da matriz obtida em Q5, cujo índice da linha é dado como entrada. Imprima na tela essa lista e a sua versão invertida."
      ],
      "metadata": {
        "id": "sBY0yhugPzfv"
      }
    },
    {
      "cell_type": "code",
      "source": [],
      "metadata": {
        "id": "zZqJePzTQKcD",
        "colab": {
          "base_uri": "https://localhost:8080/"
        },
        "outputId": "59190a31-c859-4689-b59c-87c1500d4c33"
      },
      "execution_count": null,
      "outputs": [
        {
          "output_type": "stream",
          "name": "stdout",
          "text": [
            "Digite a linha i desejada: 2\n",
            "[0, 1, 0, 1]\n",
            "[1, 0, 1, 0]\n"
          ]
        }
      ]
    },
    {
      "cell_type": "markdown",
      "source": [
        "**Q12.** Considere a lista obtida em Q11 e altere o elemento que consta na posição 1 dessa lista para o valor 2."
      ],
      "metadata": {
        "id": "DjXLHFguEnyT"
      }
    },
    {
      "cell_type": "code",
      "source": [],
      "metadata": {
        "colab": {
          "base_uri": "https://localhost:8080/"
        },
        "id": "VGXIj4eVFHfm",
        "outputId": "a6f9d482-634e-4e91-edd9-8996c6a9b562"
      },
      "execution_count": null,
      "outputs": [
        {
          "output_type": "stream",
          "name": "stdout",
          "text": [
            "[0, 2, 0, 1]\n"
          ]
        }
      ]
    },
    {
      "cell_type": "markdown",
      "source": [
        "**Q13.** Considerando a lista obtida em Q11, inclua o elemento 5 no final dessa lista e inclua o elemento 3 na posição 1 da lista."
      ],
      "metadata": {
        "id": "I54KG6viFQbG"
      }
    },
    {
      "cell_type": "code",
      "source": [],
      "metadata": {
        "colab": {
          "base_uri": "https://localhost:8080/"
        },
        "id": "fCSQ-oC3FukX",
        "outputId": "6d690575-e439-412d-e86f-87d613e4198a"
      },
      "execution_count": null,
      "outputs": [
        {
          "output_type": "stream",
          "name": "stdout",
          "text": [
            "[0, 3, 2, 0, 1, 5]\n"
          ]
        }
      ]
    },
    {
      "cell_type": "markdown",
      "source": [
        "---\n",
        "## **4. Estruturas de Repetição**"
      ],
      "metadata": {
        "id": "aTmrJnfXGHVE"
      }
    },
    {
      "cell_type": "markdown",
      "source": [
        "**Q14.** Crie uma função que recebe um número do usuário e imprime na tela uma contagem regressiva até o valor 1. Utilize o comando `for`."
      ],
      "metadata": {
        "id": "bJkBHPVMSMVn"
      }
    },
    {
      "cell_type": "code",
      "source": [],
      "metadata": {
        "id": "BWJi9WxHSmR3",
        "colab": {
          "base_uri": "https://localhost:8080/"
        },
        "outputId": "b810c97d-09a4-43c7-e31b-7b82032e6353"
      },
      "execution_count": null,
      "outputs": [
        {
          "output_type": "stream",
          "name": "stdout",
          "text": [
            "Digite um número: 10\n",
            "10\n",
            "9\n",
            "8\n",
            "7\n",
            "6\n",
            "5\n",
            "4\n",
            "3\n",
            "2\n",
            "1\n",
            "Terminou\n"
          ]
        }
      ]
    },
    {
      "cell_type": "markdown",
      "source": [
        "**Q15.** Implemente a mesma função solicitada em Q14, mas utilizando o comando `while`."
      ],
      "metadata": {
        "id": "ekjjbGiHG_Nd"
      }
    },
    {
      "cell_type": "code",
      "source": [],
      "metadata": {
        "id": "bY0qWA0gSjjg",
        "colab": {
          "base_uri": "https://localhost:8080/"
        },
        "outputId": "eacb43e0-a9a9-45fe-a801-641b96019de1"
      },
      "execution_count": null,
      "outputs": [
        {
          "output_type": "stream",
          "name": "stdout",
          "text": [
            "Digite um número: 10\n",
            "10\n",
            "9\n",
            "8\n",
            "7\n",
            "6\n",
            "5\n",
            "4\n",
            "3\n",
            "2\n",
            "1\n",
            "Terminou\n"
          ]
        }
      ]
    },
    {
      "cell_type": "markdown",
      "source": [
        "**Q16.** Implemente a mesma função solicitada em Q14, utilizando uma função recursiva."
      ],
      "metadata": {
        "id": "BZp24Cx7HXuv"
      }
    },
    {
      "cell_type": "code",
      "source": [],
      "metadata": {
        "colab": {
          "base_uri": "https://localhost:8080/"
        },
        "id": "hjrh8nIsHi6S",
        "outputId": "524a1187-e2de-499f-ce4f-bdaf64ff74fc"
      },
      "execution_count": null,
      "outputs": [
        {
          "output_type": "stream",
          "name": "stdout",
          "text": [
            "Digite um número: 10\n",
            "10\n",
            "9\n",
            "8\n",
            "7\n",
            "6\n",
            "5\n",
            "4\n",
            "3\n",
            "2\n",
            "1\n",
            "Terminou\n"
          ]
        }
      ]
    },
    {
      "cell_type": "markdown",
      "source": [
        "---\n",
        "## **5. Resolução de Problemas**"
      ],
      "metadata": {
        "id": "5A4t70TjF4wi"
      }
    },
    {
      "cell_type": "markdown",
      "source": [
        "**Q17.** Calcule a área de uma circunferência com base no raio recebido pelo usuário. Imprima na tela o resultado."
      ],
      "metadata": {
        "id": "TD8dIUAjkM6O"
      }
    },
    {
      "cell_type": "code",
      "source": [],
      "metadata": {
        "id": "0LPNFCFtmPig",
        "colab": {
          "base_uri": "https://localhost:8080/"
        },
        "outputId": "ba0a3706-a77f-45d1-ac4e-f7b1fd4963cb"
      },
      "execution_count": null,
      "outputs": [
        {
          "output_type": "stream",
          "name": "stdout",
          "text": [
            "Digite o raio da circunferência: 5\n",
            "A área da circunferência é: 78.54\n"
          ]
        }
      ]
    },
    {
      "cell_type": "markdown",
      "source": [
        "\n",
        "**Q18.** Crie um programa que recebe duas notas do usuário e retorna uma mensagem com base na aprovação ou reprovação considerando média maior ou igual a 6,0."
      ],
      "metadata": {
        "id": "WHINcIO5RknB"
      }
    },
    {
      "cell_type": "code",
      "source": [],
      "metadata": {
        "id": "V0fGa7NkRv3b",
        "colab": {
          "base_uri": "https://localhost:8080/"
        },
        "outputId": "fa41c717-7523-4c64-de06-735f181cff3e"
      },
      "execution_count": null,
      "outputs": [
        {
          "output_type": "stream",
          "name": "stdout",
          "text": [
            "Digite o valor da nota 1: 4.7\n",
            "Digite o valor da nota 2: 5.9\n",
            "Infelizmente sua média foi 5.30 e você foi REPROVADO!!\n"
          ]
        }
      ]
    },
    {
      "cell_type": "markdown",
      "source": [
        "**Q19.** Implemente uma função que recebe uma medida de ângulo em graus e retorna uma mensagem indicando o seu quadrante."
      ],
      "metadata": {
        "id": "J7UwSESQR5YS"
      }
    },
    {
      "cell_type": "code",
      "source": [],
      "metadata": {
        "id": "wLEVYyzuSMEA",
        "colab": {
          "base_uri": "https://localhost:8080/"
        },
        "outputId": "16397034-8c8d-4cd1-f5e8-c821d8db219d"
      },
      "execution_count": null,
      "outputs": [
        {
          "output_type": "stream",
          "name": "stdout",
          "text": [
            "Digite o valor do ângulo em graus(0 a 360): 276\n",
            "4º quadrante\n"
          ]
        }
      ]
    }
  ]
}